{
 "cells": [
  {
   "cell_type": "code",
   "execution_count": 1,
   "id": "0bbb2331",
   "metadata": {},
   "outputs": [],
   "source": [
    "from numpy import empty,zeros,max\n",
    "import pylab as pyl\n",
    "import matplotlib.pyplot as plt"
   ]
  },
  {
   "cell_type": "code",
   "execution_count": 2,
   "id": "30959ffa",
   "metadata": {},
   "outputs": [],
   "source": [
    "# Constantes\n",
    "M = 100         # Cuadros en la cuadicula\n",
    "V = 1.0         # Voltaje en la parte superior de la placa\n",
    "target = 1e-6   # Precision\n"
   ]
  },
  {
   "cell_type": "code",
   "execution_count": 3,
   "id": "4485249f",
   "metadata": {},
   "outputs": [
    {
     "data": {
      "text/plain": [
       "array([[1., 1., 1., ..., 1., 1., 1.],\n",
       "       [0., 0., 0., ..., 0., 0., 0.],\n",
       "       [0., 0., 0., ..., 0., 0., 0.],\n",
       "       ...,\n",
       "       [0., 0., 0., ..., 0., 0., 0.],\n",
       "       [0., 0., 0., ..., 0., 0., 0.],\n",
       "       [0., 0., 0., ..., 0., 0., 0.]])"
      ]
     },
     "execution_count": 3,
     "metadata": {},
     "output_type": "execute_result"
    }
   ],
   "source": [
    "phi2 = zeros([M+1,M+1],float)\n",
    "phi2[0,:] = V\n",
    "# phi2\n",
    "\n",
    "Dphi2 = empty([M+1,M+1],float)\n",
    "phi2"
   ]
  },
  {
   "cell_type": "code",
   "execution_count": 5,
   "id": "813bb1c5",
   "metadata": {},
   "outputs": [
    {
     "ename": "SyntaxError",
     "evalue": "invalid syntax (1287641553.py, line 13)",
     "output_type": "error",
     "traceback": [
      "\u001b[0;36m  Cell \u001b[0;32mIn[5], line 13\u001b[0;36m\u001b[0m\n\u001b[0;31m    if i==0 or i==M or j==0 or j==M\u001b[0m\n\u001b[0m                                    ^\u001b[0m\n\u001b[0;31mSyntaxError\u001b[0m\u001b[0;31m:\u001b[0m invalid syntax\n"
     ]
    }
   ],
   "source": [
    "# Creamos unas cajas (arreglos) para guardar los valores del potencial\n",
    "phi = zeros([M+1,M+1],float)\n",
    "phi[0,:] = V\n",
    "Dphi = empty([M+1,M+1],float)\n",
    "\n",
    "\n",
    "\n",
    "delta = 1.0\n",
    "while delta>target:\n",
    "    # Calculamos los nuevos valores del potencial\n",
    "    for i in range(M+1):\n",
    "        for j in range(M+1):\n",
    "            if i==0 or i==M or j==0 or j==M \n",
    "                Dphi[i,j] = phi[i,j]\n",
    "            else:\n",
    "                Dphi[i,j] = (phi[i+1,j] + phi[i-1,j]+ phi[i,j+1] + phi[i,j-1])/4\n",
    "\n",
    "    # Calculamos la diferencia maxima respecto de los valores anteriores\n",
    "    delta = max(abs(phi-Dphi))\n",
    "    print(delta)\n",
    "\n",
    "    # Intercambiamos los arreglos\n",
    "    phi,Dphi = Dphi,phi"
   ]
  },
  {
   "cell_type": "code",
   "execution_count": null,
   "id": "aeb5eb59",
   "metadata": {},
   "outputs": [],
   "source": [
    "phi"
   ]
  },
  {
   "cell_type": "code",
   "execution_count": null,
   "id": "5eb08368",
   "metadata": {},
   "outputs": [],
   "source": [
    "pyl.imshow(phi)\n",
    "# plt.colormaps(phi)\n",
    "# pyl.gray()"
   ]
  }
 ],
 "metadata": {
  "kernelspec": {
   "display_name": "Python 3 (ipykernel)",
   "language": "python",
   "name": "python3"
  },
  "language_info": {
   "codemirror_mode": {
    "name": "ipython",
    "version": 3
   },
   "file_extension": ".py",
   "mimetype": "text/x-python",
   "name": "python",
   "nbconvert_exporter": "python",
   "pygments_lexer": "ipython3",
   "version": "3.9.13"
  }
 },
 "nbformat": 4,
 "nbformat_minor": 5
}
