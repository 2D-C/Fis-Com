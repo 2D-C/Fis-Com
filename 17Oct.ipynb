{
 "cells": [
  {
   "cell_type": "code",
   "execution_count": 3,
   "id": "c3ea81f9",
   "metadata": {},
   "outputs": [],
   "source": [
    "from math import *\n",
    "import numpy as np\n",
    "import matplotlib.pyplot as plt"
   ]
  },
  {
   "cell_type": "code",
   "execution_count": 4,
   "id": "fd13a304",
   "metadata": {},
   "outputs": [
    {
     "data": {
      "text/plain": [
       "64.0"
      ]
     },
     "execution_count": 4,
     "metadata": {},
     "output_type": "execute_result"
    }
   ],
   "source": [
    "25*2.56"
   ]
  },
  {
   "cell_type": "code",
   "execution_count": 5,
   "id": "9a71950d",
   "metadata": {},
   "outputs": [
    {
     "name": "stdout",
     "output_type": "stream",
     "text": [
      "[[ 1.          0.11111111  0.11111111  0.11111111]\n",
      " [ 0.          1.          1.52941176  2.05882353]\n",
      " [-0.         -0.          1.          0.81395349]\n",
      " [ 0.          0.          0.          1.76744186]]\n"
     ]
    }
   ],
   "source": [
    "A = np.array([[9.,1.,1.,1.],[2.,4.,6.,8.],[3.,9.,6.,12.],[4.,2.,6.,8.]])\n",
    "\n",
    "for i in range(1,4):\n",
    "    A[0]= A[0]/A[0,0]\n",
    "    A[i]= A[i] - (A[0] * A[i,0])\n",
    "    \n",
    "for j in range(2,4):\n",
    "    A[1]= A[1]/A[1,1]\n",
    "    A[j]= A[j] - (A[1] * A[j,1])\n",
    "    \n",
    "for k in range(3,4):\n",
    "    A[2]= A[2]/A[2,2]\n",
    "    A[k]= A[k] - (A[2] * A[k,2])\n",
    "print(A)"
   ]
  },
  {
   "cell_type": "code",
   "execution_count": 6,
   "id": "77253536",
   "metadata": {},
   "outputs": [
    {
     "name": "stdout",
     "output_type": "stream",
     "text": [
      "[[ 1.          0.11111111  0.11111111  0.11111111]\n",
      " [ 0.          1.          1.52941176  2.05882353]\n",
      " [-0.         -0.          1.          0.81395349]\n",
      " [ 0.          0.          0.          1.76744186]]\n"
     ]
    }
   ],
   "source": [
    "A = np.array([[9.,1.,1.,1.],[2.,4.,6.,8.],[3.,9.,6.,12.],[4.,2.,6.,8.]])\n",
    "n = len(A)-1\n",
    "for h in range(n):\n",
    "    for l in range(h+1,n+1):\n",
    "        A[h]= A[h]/A[h,h]\n",
    "        A[l]= A[l] - (A[h] * A[l,h])\n",
    "print(A)"
   ]
  },
  {
   "cell_type": "code",
   "execution_count": null,
   "id": "b3102d18",
   "metadata": {},
   "outputs": [],
   "source": []
  }
 ],
 "metadata": {
  "kernelspec": {
   "display_name": "Python 3 (ipykernel)",
   "language": "python",
   "name": "python3"
  },
  "language_info": {
   "codemirror_mode": {
    "name": "ipython",
    "version": 3
   },
   "file_extension": ".py",
   "mimetype": "text/x-python",
   "name": "python",
   "nbconvert_exporter": "python",
   "pygments_lexer": "ipython3",
   "version": "3.9.13"
  }
 },
 "nbformat": 4,
 "nbformat_minor": 5
}
