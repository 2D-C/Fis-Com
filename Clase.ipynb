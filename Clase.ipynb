{
 "cells": [
  {
   "cell_type": "markdown",
   "id": "88ebf58d",
   "metadata": {},
   "source": [
    "I = ($\\dfrac{f(a)}{2} + \\dfrac{f(b)}{2} + \\sum_{k=1}^{N-2} f(a+kdx))dx $"
   ]
  },
  {
   "cell_type": "code",
   "execution_count": 45,
   "id": "731313c0",
   "metadata": {},
   "outputs": [],
   "source": [
    "import numpy as np\n",
    "from math import *\n",
    "import matplotlib.pyplot as plt"
   ]
  },
  {
   "cell_type": "code",
   "execution_count": 27,
   "id": "a40e08f8",
   "metadata": {},
   "outputs": [],
   "source": [
    "x= np.linspace(-100,100,1000)"
   ]
  },
  {
   "cell_type": "code",
   "execution_count": 28,
   "id": "aadf534f",
   "metadata": {},
   "outputs": [],
   "source": [
    "y = f(x)"
   ]
  },
  {
   "cell_type": "code",
   "execution_count": 29,
   "id": "5d62354b",
   "metadata": {},
   "outputs": [
    {
     "data": {
      "text/plain": [
       "[<matplotlib.lines.Line2D at 0x7fadb64d1d90>]"
      ]
     },
     "execution_count": 29,
     "metadata": {},
     "output_type": "execute_result"
    },
    {
     "data": {
      "image/png": "[encoded data removed]",
      "text/plain": [
       "<Figure size 640x480 with 1 Axes>"
      ]
     },
     "metadata": {},
     "output_type": "display_data"
    }
   ],
   "source": [
    "plt.plot(x,y)"
   ]
  },
  {
   "cell_type": "code",
   "execution_count": 54,
   "id": "0c71eccd",
   "metadata": {},
   "outputs": [],
   "source": [
    "def f1(x):\n",
    "    return x**3-27"
   ]
  },
  {
   "cell_type": "code",
   "execution_count": 55,
   "id": "387ddb68",
   "metadata": {},
   "outputs": [],
   "source": [
    "def F1(x):\n",
    "    return (x**4)/4 -27*x"
   ]
  },
  {
   "cell_type": "code",
   "execution_count": 56,
   "id": "4b25365e",
   "metadata": {},
   "outputs": [],
   "source": [
    "def I1(a,b,N):\n",
    "    dx=(b-a)/N\n",
    "    suma=0\n",
    "    for k in range(1,N):\n",
    "        suma= suma + f1(a+k*dx)\n",
    "    fa=f1(a)/2\n",
    "    fb=f1(b)/2\n",
    "    return (fa+fb+suma)*dx"
   ]
  },
  {
   "cell_type": "code",
   "execution_count": 57,
   "id": "28d9faa8",
   "metadata": {},
   "outputs": [],
   "source": [
    "def I2(a,b):\n",
    "    return F1(b)-F1(a)"
   ]
  },
  {
   "cell_type": "code",
   "execution_count": 58,
   "id": "094434ea",
   "metadata": {},
   "outputs": [
    {
     "data": {
      "text/plain": [
       "1938.75"
      ]
     },
     "execution_count": 58,
     "metadata": {},
     "output_type": "execute_result"
    }
   ],
   "source": [
    "I2(-5,10)"
   ]
  },
  {
   "cell_type": "code",
   "execution_count": 60,
   "id": "bb296313",
   "metadata": {},
   "outputs": [
    {
     "data": {
      "text/plain": [
       "1938.750042187498"
      ]
     },
     "execution_count": 60,
     "metadata": {},
     "output_type": "execute_result"
    }
   ],
   "source": [
    "I1(-5,10,10000)"
   ]
  },
  {
   "cell_type": "code",
   "execution_count": 62,
   "id": "a3b2e255",
   "metadata": {},
   "outputs": [],
   "source": [
    "def f2(x):\n",
    "    return e**(x)"
   ]
  },
  {
   "cell_type": "code",
   "execution_count": 63,
   "id": "c8db3bbf",
   "metadata": {},
   "outputs": [],
   "source": [
    "def F2(x):\n",
    "    return e**(x)"
   ]
  },
  {
   "cell_type": "code",
   "execution_count": 64,
   "id": "090c2f17",
   "metadata": {},
   "outputs": [],
   "source": [
    "def I12(a,b,N):\n",
    "    dx=(b-a)/N\n",
    "    suma=0\n",
    "    for k in range(1,N):\n",
    "        suma= suma + f2(a+k*dx)\n",
    "    fa=f2(a)/2\n",
    "    fb=f2(b)/2\n",
    "    return (fa+fb+suma)*dx"
   ]
  },
  {
   "cell_type": "code",
   "execution_count": 67,
   "id": "73a3cb76",
   "metadata": {},
   "outputs": [],
   "source": [
    "def I22(a,b):\n",
    "    return F2(b)-F2(a)"
   ]
  },
  {
   "cell_type": "code",
   "execution_count": 65,
   "id": "0652c342",
   "metadata": {},
   "outputs": [
    {
     "data": {
      "text/plain": [
       "10687899406807.082"
      ]
     },
     "execution_count": 65,
     "metadata": {},
     "output_type": "execute_result"
    }
   ],
   "source": [
    "I12(-10,30,1000)"
   ]
  },
  {
   "cell_type": "code",
   "execution_count": 68,
   "id": "864d11a7",
   "metadata": {},
   "outputs": [
    {
     "data": {
      "text/plain": [
       "10686474581524.445"
      ]
     },
     "execution_count": 68,
     "metadata": {},
     "output_type": "execute_result"
    }
   ],
   "source": [
    "I22(-10,30)"
   ]
  },
  {
   "cell_type": "code",
   "execution_count": 69,
   "id": "e4fd7ba2",
   "metadata": {},
   "outputs": [],
   "source": [
    "def f3(x):\n",
    "    return 1/(x-1)"
   ]
  },
  {
   "cell_type": "code",
   "execution_count": 70,
   "id": "33ea50a0",
   "metadata": {},
   "outputs": [],
   "source": [
    "def F3(x):\n",
    "    return log(x-1)"
   ]
  },
  {
   "cell_type": "code",
   "execution_count": 71,
   "id": "43868e51",
   "metadata": {},
   "outputs": [],
   "source": [
    "def I13(a,b,N):\n",
    "    dx=(b-a)/N\n",
    "    suma=0\n",
    "    for k in range(1,N):\n",
    "        suma= suma + f3(a+k*dx)\n",
    "    fa=f3(a)/2\n",
    "    fb=f3(b)/2\n",
    "    return (fa+fb+suma)*dx"
   ]
  },
  {
   "cell_type": "code",
   "execution_count": 72,
   "id": "1c6f3bfa",
   "metadata": {},
   "outputs": [],
   "source": [
    "def I23(a,b):\n",
    "    return F3(b)-F3(a)"
   ]
  },
  {
   "cell_type": "code",
   "execution_count": 74,
   "id": "bcb162f4",
   "metadata": {},
   "outputs": [
    {
     "data": {
      "text/plain": [
       "2.944465903499545"
      ]
     },
     "execution_count": 74,
     "metadata": {},
     "output_type": "execute_result"
    }
   ],
   "source": [
    "I13(2,20,1000)"
   ]
  },
  {
   "cell_type": "code",
   "execution_count": 75,
   "id": "105825bd",
   "metadata": {},
   "outputs": [
    {
     "data": {
      "text/plain": [
       "2.9444389791664403"
      ]
     },
     "execution_count": 75,
     "metadata": {},
     "output_type": "execute_result"
    }
   ],
   "source": [
    "I23(2,20)"
   ]
  },
  {
   "cell_type": "markdown",
   "id": "9a9eb1c7",
   "metadata": {},
   "source": [
    "Integración de Simpson\n",
    "\n",
    "$$I(a,b) = \\dfrac{h}{3}(f(a) + f(b) + 4\\sum_{k=1}^{N-1} f(a+(2k+1)h) + 2 \\sum_{k=0}^{N-2} f(a+(2k)h)) $$"
   ]
  },
  {
   "cell_type": "code",
   "execution_count": 4,
   "id": "bc4b98c0",
   "metadata": {},
   "outputs": [],
   "source": [
    "def f1(x):\n",
    "    return x**4 -2*x +1"
   ]
  },
  {
   "cell_type": "code",
   "execution_count": 5,
   "id": "0e8e16ed",
   "metadata": {},
   "outputs": [],
   "source": [
    "def F1(x):\n",
    "    return (x**5)/5 -x**2 +x "
   ]
  },
  {
   "cell_type": "code",
   "execution_count": 65,
   "id": "58ebf46b",
   "metadata": {},
   "outputs": [],
   "source": [
    "def I1(a,b,N):\n",
    "    h=(b/N)/2\n",
    "    dh=h/3\n",
    "    suma=0\n",
    "    suma1=0\n",
    "    fa=f1(a)\n",
    "    fb=f1(b)\n",
    "    for k in range(0,N):\n",
    "        suma= suma + 4*f1(a+(2*k+1)*h)\n",
    "    for j in range(1,N-1):\n",
    "        suma1= suma1 + 2*f1(a+(2*j)*h)\n",
    "    return (fa+fb+suma+suma1)*dh"
   ]
  },
  {
   "cell_type": "code",
   "execution_count": 27,
   "id": "c1cb72e3",
   "metadata": {},
   "outputs": [],
   "source": [
    "def I2(a,b):\n",
    "    return F1(b)-F1(a)"
   ]
  },
  {
   "cell_type": "code",
   "execution_count": 28,
   "id": "8d40106f",
   "metadata": {},
   "outputs": [
    {
     "data": {
      "text/plain": [
       "4.4"
      ]
     },
     "execution_count": 28,
     "metadata": {},
     "output_type": "execute_result"
    }
   ],
   "source": [
    "I2(0,2)"
   ]
  },
  {
   "cell_type": "code",
   "execution_count": 67,
   "id": "e15f096d",
   "metadata": {},
   "outputs": [
    {
     "data": {
      "text/plain": [
       "4.391373269376257"
      ]
     },
     "execution_count": 67,
     "metadata": {},
     "output_type": "execute_result"
    }
   ],
   "source": [
    "I1(0,2,1000)"
   ]
  },
  {
   "cell_type": "code",
   "execution_count": 72,
   "id": "858a1210",
   "metadata": {},
   "outputs": [],
   "source": [
    "def f2(t):\n",
    "    return e**(-t**2)"
   ]
  },
  {
   "cell_type": "code",
   "execution_count": 73,
   "id": "0b408a50",
   "metadata": {},
   "outputs": [],
   "source": [
    "def I3(a,b,N):\n",
    "    h=(b/N)/2\n",
    "    dh=h/3\n",
    "    suma=0\n",
    "    suma1=0\n",
    "    fa=f2(a)\n",
    "    fb=f2(b)\n",
    "    for k in range(0,N):\n",
    "        suma= suma + 4*f2(a+(2*k+1)*h)\n",
    "    for j in range(1,N-1):\n",
    "        suma1= suma1 + 2*f2(a+(2*j)*h)\n",
    "    return (fa+fb+suma+suma1)*dh"
   ]
  },
  {
   "cell_type": "code",
   "execution_count": 79,
   "id": "7c179cab",
   "metadata": {},
   "outputs": [
    {
     "data": {
      "text/plain": [
       "0.8820690823105408"
      ]
     },
     "execution_count": 79,
     "metadata": {},
     "output_type": "execute_result"
    }
   ],
   "source": [
    "I3(0,2,1000)"
   ]
  },
  {
   "cell_type": "code",
   "execution_count": null,
   "id": "ff873e51",
   "metadata": {},
   "outputs": [],
   "source": []
  }
 ],
 "metadata": {
  "kernelspec": {
   "display_name": "Python 3 (ipykernel)",
   "language": "python",
   "name": "python3"
  },
  "language_info": {
   "codemirror_mode": {
    "name": "ipython",
    "version": 3
   },
   "file_extension": ".py",
   "mimetype": "text/x-python",
   "name": "python",
   "nbconvert_exporter": "python",
   "pygments_lexer": "ipython3",
   "version": "3.9.13"
  }
 },
 "nbformat": 4,
 "nbformat_minor": 5
}
