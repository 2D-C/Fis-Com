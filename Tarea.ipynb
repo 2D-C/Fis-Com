{
 "cells": [
  {
   "cell_type": "code",
   "execution_count": 15,
   "id": "ea3fd5da",
   "metadata": {},
   "outputs": [],
   "source": [
    "from math import *\n",
    "import numpy as np\n",
    "import matplotlib.pyplot as plt"
   ]
  },
  {
   "cell_type": "markdown",
   "id": "679a4b87",
   "metadata": {},
   "source": [
    "Derivada central:\n",
    "\n",
    "$\\dfrac{df}{dx} = \\dfrac{f(x+h/2) - f(x-h/2)}{h}$\n",
    "\n",
    "Entonces, tenemos que la derivada de $f(x) = 1 + \\dfrac{1}{2} tanh(2x)$ es:\n",
    "\n",
    "$\\dfrac{df}{dx} = \\dfrac{d (1 + \\dfrac{1}{2} tanh(2x))}{dx} = 0 + \\dfrac{1}{2}(2\\cdot(1-tanh²(2x)))= 1-tanh²(2x) = sech²(2x)$"
   ]
  },
  {
   "cell_type": "code",
   "execution_count": 8,
   "id": "49b5effc",
   "metadata": {},
   "outputs": [],
   "source": [
    "def f(x):\n",
    "    return 1 + (1/2)*tanh(2*x)\n",
    "\n",
    "def Df(x):\n",
    "    return 1 - tanh(2*x)**2 \n",
    "\n",
    "def Dcf(x):\n",
    "    h=1/100000\n",
    "    return (f(x+h/2)-f(x-h/2))/h"
   ]
  },
  {
   "cell_type": "code",
   "execution_count": 25,
   "id": "e2f4a788",
   "metadata": {},
   "outputs": [
    {
     "data": {
      "text/plain": [
       "<matplotlib.legend.Legend at 0x7fe3589e79d0>"
      ]
     },
     "execution_count": 25,
     "metadata": {},
     "output_type": "execute_result"
    },
    {
     "data": {
      "image/png": "[encoded data removed]",
      "text/plain": [
       "<Figure size 640x480 with 1 Axes>"
      ]
     },
     "metadata": {},
     "output_type": "display_data"
    }
   ],
   "source": [
    "X = np.linspace(-2,2,100)\n",
    "Y=[]\n",
    "Y1=[]\n",
    "\n",
    "for x in X:\n",
    "    Y.append(Df(x))\n",
    "    Y1.append(Dcf(x))\n",
    "    \n",
    "plt.plot(X,Y,\"r--\",label=\"Analitica\")\n",
    "plt.plot(X,Y1,\"b.\", label=\"Central\")\n",
    "plt.legend(loc=2)"
   ]
  },
  {
   "cell_type": "code",
   "execution_count": 90,
   "id": "2470503b",
   "metadata": {},
   "outputs": [
    {
     "name": "stdout",
     "output_type": "stream",
     "text": [
      "[[ 1.          0.11111111  0.11111111  0.11111111]\n",
      " [ 0.          1.          1.52941176  2.05882353]\n",
      " [-0.         -0.          1.          0.81395349]\n",
      " [ 0.          0.          0.          1.76744186]]\n"
     ]
    }
   ],
   "source": [
    "A = np.array([[9.,1.,1.,1.],[2.,4.,6.,8.],[3.,9.,6.,12.],[4.,2.,6.,8.]])\n",
    "\n",
    "for i in range(1,4):\n",
    "    A[0]= A[0]/A[0,0]\n",
    "    A[i]= A[i] - (A[0] * A[i,0])\n",
    "    \n",
    "for j in range(2,4):\n",
    "    A[1]= A[1]/A[1,1]\n",
    "    A[j]= A[j] - (A[1] * A[j,1])\n",
    "    \n",
    "for k in range(3,4):\n",
    "    A[2]= A[2]/A[2,2]\n",
    "    A[k]= A[k] - (A[2] * A[k,2])\n",
    "print(A)"
   ]
  },
  {
   "cell_type": "code",
   "execution_count": 91,
   "id": "f983b525",
   "metadata": {},
   "outputs": [
    {
     "name": "stdout",
     "output_type": "stream",
     "text": [
      "[[ 1.          0.11111111  0.11111111  0.11111111]\n",
      " [ 0.          1.          1.52941176  2.05882353]\n",
      " [-0.         -0.          1.          0.81395349]\n",
      " [ 0.          0.          0.          1.76744186]]\n"
     ]
    }
   ],
   "source": [
    "A = np.array([[9.,1.,1.,1.],[2.,4.,6.,8.],[3.,9.,6.,12.],[4.,2.,6.,8.]])\n",
    "\n",
    "for h in range(3):\n",
    "    for l in range(h+1,4):\n",
    "        A[h]= A[h]/A[h,h]\n",
    "        A[l]= A[l] - (A[h] * A[l,h])\n",
    "print(A)"
   ]
  },
  {
   "cell_type": "code",
   "execution_count": null,
   "id": "53a23095",
   "metadata": {},
   "outputs": [],
   "source": []
  }
 ],
 "metadata": {
  "kernelspec": {
   "display_name": "Python 3 (ipykernel)",
   "language": "python",
   "name": "python3"
  },
  "language_info": {
   "codemirror_mode": {
    "name": "ipython",
    "version": 3
   },
   "file_extension": ".py",
   "mimetype": "text/x-python",
   "name": "python",
   "nbconvert_exporter": "python",
   "pygments_lexer": "ipython3",
   "version": "3.9.13"
  }
 },
 "nbformat": 4,
 "nbformat_minor": 5
}
