{
 "cells": [
  {
   "cell_type": "code",
   "execution_count": 1,
   "id": "1cef087b",
   "metadata": {},
   "outputs": [],
   "source": [
    "def catalan(n):\n",
    "    if n ==0:\n",
    "        return 1\n",
    "    elif n>0:\n",
    "        return ((4*(n-1) +2)/((n-1)+2))*catalan(n-1)\n",
    "    else:\n",
    "        print(\"Por favor, introduzca un número entero positivo\")"
   ]
  },
  {
   "cell_type": "code",
   "execution_count": 3,
   "id": "5ccb27e7",
   "metadata": {},
   "outputs": [],
   "source": [
    "def MCD(m,n):\n",
    "    if n==0:\n",
    "        return m\n",
    "    elif n > 0:\n",
    "        return MCD(n,m%n)\n",
    "    else:\n",
    "        print(\"Por favor, ingrese dos números enteros positivos\")"
   ]
  },
  {
   "cell_type": "code",
   "execution_count": 4,
   "id": "e4e03a92",
   "metadata": {},
   "outputs": [
    {
     "name": "stdout",
     "output_type": "stream",
     "text": [
      "Los nuḿeros de Catalan desde n=0 hasta n= 18 son:\n",
      "1\n",
      "1.0\n",
      "2.0\n",
      "5.0\n",
      "14.0\n",
      "42.0\n",
      "132.0\n",
      "429.0\n",
      "1430.0\n",
      "4862.0\n",
      "16796.0\n",
      "58786.0\n",
      "208012.0\n",
      "742900.0\n",
      "2674440.0\n",
      "9694845.0\n",
      "35357670.0\n",
      "129644790.0\n",
      "477638700.0\n"
     ]
    }
   ],
   "source": [
    "c0,n = 1,0\n",
    "print(\"Los nuḿeros de Catalan desde n=0 hasta n= 18 son:\")\n",
    "while c0 <= 1000000000:\n",
    "    print(c0)\n",
    "    c0= ((4*n +2)/(n+2))*c0\n",
    "    n = n+1"
   ]
  },
  {
   "cell_type": "code",
   "execution_count": 8,
   "id": "73a23591",
   "metadata": {},
   "outputs": [
    {
     "data": {
      "text/plain": [
       "12"
      ]
     },
     "execution_count": 8,
     "metadata": {},
     "output_type": "execute_result"
    }
   ],
   "source": [
    "MCD(108,192)"
   ]
  },
  {
   "cell_type": "code",
   "execution_count": null,
   "id": "1b43e0b4",
   "metadata": {},
   "outputs": [],
   "source": []
  },
  {
   "cell_type": "code",
   "execution_count": null,
   "id": "70077c98",
   "metadata": {},
   "outputs": [],
   "source": []
  }
 ],
 "metadata": {
  "kernelspec": {
   "display_name": "Python 3 (ipykernel)",
   "language": "python",
   "name": "python3"
  },
  "language_info": {
   "codemirror_mode": {
    "name": "ipython",
    "version": 3
   },
   "file_extension": ".py",
   "mimetype": "text/x-python",
   "name": "python",
   "nbconvert_exporter": "python",
   "pygments_lexer": "ipython3",
   "version": "3.9.13"
  }
 },
 "nbformat": 4,
 "nbformat_minor": 5
}
