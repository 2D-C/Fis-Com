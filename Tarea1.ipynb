{
 "cells": [
  {
   "cell_type": "markdown",
   "metadata": {},
   "source": [
    "<h1 align=\"center\">Física Computacional.</h1>\n",
    "<h1 align=\"center\">Semestre 2014-1</h1>\n",
    "\n",
    "<h2>Sergio A. Alcalá Corona </h2> \n",
    "\n",
    "---\n",
    "### Daniel Rojo Mata\n",
    "### Rodrigo Vega Vilchis\n",
    "---"
   ]
  },
  {
   "cell_type": "markdown",
   "metadata": {},
   "source": [
    "<h1 align=\"center\">Programación para la física computacional</h1> \n",
    "\n",
    "## Práctica 1.  Programación para la física computacional\n",
    "\n",
    "\n",
    "### Programación básica para la física\n",
    "\n",
    "---"
   ]
  },
  {
   "cell_type": "code",
   "execution_count": 1,
   "metadata": {},
   "outputs": [],
   "source": [
    "from math import *\n",
    "from numpy import *"
   ]
  },
  {
   "cell_type": "markdown",
   "metadata": {},
   "source": [
    "### EJERCICIOS:"
   ]
  },
  {
   "cell_type": "markdown",
   "metadata": {},
   "source": [
    "**1. Caida de una pelota desde una torre:** Se deja caer una pelota desde una torre de altura $h$. Tiene velocidad inicial cero y acelera hacia abajo con la gravedad.\n",
    "\n",
    "Escribe un programa que le pida al usuario que ingrese la altura en metros de la torre y luego calcule e imprima el tiempo en segundos hasta que la pelota toque el suelo (ignora la resistencia del aire). \n",
    "    \n",
    "Después, usa tu programa para calcular el tiempo de una pelota lanzada desde una torre de $100m$ de altura."
   ]
  },
  {
   "cell_type": "code",
   "execution_count": 21,
   "metadata": {},
   "outputs": [
    {
     "name": "stdout",
     "output_type": "stream",
     "text": [
      "Escribe la altura de la torre deseada en [m]:100\n",
      "La pelota toca el suelo en:4.52segundos\n"
     ]
    }
   ],
   "source": [
    "#Para el programa usaremos la ecuación de caida libre para un objeto que parte desde el reposo con el valor de g = 9.81 m/s^2\n",
    "#Pero antes definiremos la variable para la altura deseada por el usuario\n",
    "\n",
    "h = float(input(\"Ingrese la altura de la torre en [m]:\"))\n",
    "\n",
    "t1= sqrt((2*h)/9.81)\n",
    "\n",
    "#Emperifollamos un poco el resultado y lo redondeamos a 2 decimales\n",
    "\n",
    "t2= \"La pelota tarda en tocar el suelo en:\" + str(round(t1,2)) + \"segundos\"\n",
    "\n",
    "#Imprimimos el tiempo en segundos de la caida del objeto desde la altura h hasta el suelo\n",
    "print (t2)"
   ]
  },
  {
   "cell_type": "code",
   "execution_count": 23,
   "metadata": {},
   "outputs": [
    {
     "name": "stdout",
     "output_type": "stream",
     "text": [
      "Desde una torre de 100 m\n",
      "La pelota toca el suelo en:4.52segundos\n"
     ]
    }
   ],
   "source": [
    "#Mismo programa, sólo que con el valor de h = 100 m\n",
    "h = 100\n",
    "\n",
    "print(\"Desde una torre de 100 m\")\n",
    "\n",
    "t1= sqrt((2*h)/9.81)\n",
    "\n",
    "t2= \"La pelota tarda en tocar el suelo en:\" + str(round(t1,2)) + \"segundos\"\n",
    "\n",
    "print (t2)"
   ]
  },
  {
   "cell_type": "markdown",
   "metadata": {},
   "source": []
  },
  {
   "cell_type": "markdown",
   "metadata": {},
   "source": [
    "**2. Altitud de un satélite**: se va a lanzar un satélite en una órbita circular alrededor de la Tierra de modo que orbite el planeta una vez cada $T$ segundos. "
   ]
  },
  {
   "cell_type": "markdown",
   "metadata": {},
   "source": [
    "(a) Demuestre que la altitud $h$ sobre la superficie de la Tierra que debe tener el satélite es:\n",
    "\n",
    "<h3 align=\"center\">$h = \\biggl( {GMT^2\\over4\\pi^2} \\biggr)^{1/3} - R$,</h3> \n",
    "\n",
    "donde $G=6.67\\times10^{-11}\\,\\textrm{m}^3\\,\\textrm{kg}^{-1}\\,\\textrm{s}^{-2}$ es la constante gravitatoria de Newton, $M=5.97\\times10^{24}\\,$kg es la masa de la Tierra y $R=6371\\,$km  es su radio.\n",
    "\n"
   ]
  },
  {
   "cell_type": "markdown",
   "metadata": {},
   "source": [
    "$\\textbf{Demostración}$:\n",
    "\n",
    "Entonces, tenemos que un satélite orbita circularmente alrededor de la tierra. De modo que podemos usar la ley de gravitación de Newton que nos describe la fuerza de interacción entre dos cuerpos:\n",
    "\n",
    "$$ F_G = G \\dfrac{M m}{r^2}$$\n",
    "\n",
    "Pero notemos que la distancia \"r\" entre los cuerpos es igual a la suma del radio de la tierra más la altitud en la que se encuentra el satélite, es decir, $ r = R + h$\n",
    "\n",
    "Por otra parte, notemos que la fuerza $F_G$ es una fuerza centrípeta que mantiene girando en orbita circular al satélite. De modo que:\n",
    "\n",
    "$$F_G = F_c = m\\omega^2 (R + h) = G \\dfrac{M m}{(R + h)^2}            \\cdots (1)$$\n",
    "\n",
    "Por otra parte, tenemos que la frecuencia angular puede ser vista como $\\omega = \\dfrac{2\\pi}{T}$. De modo que sustituyendo en (1), tenemos que:\n",
    "\n",
    "$$  m(\\dfrac{2\\pi}{T})^2 (R + h) = G \\dfrac{M m}{(R + h)^2} $$\n",
    "$\\Rightarrow$\n",
    "$$ (R + h)^3 =  \\dfrac{GMT^2 }{4\\pi^2}$$\n",
    "$\\Rightarrow$\n",
    "$$ h =  \\left (\\dfrac{GMT^2 }{4\\pi^2} \\right )^{1/3} - R$$\n",
    "\n",
    "$\\therefore$ La altitud $h$ sobre la superficie de la Tierra que debe tener el satélite es $\\left (\\dfrac{GMT^2 }{4\\pi^2} \\right )^{1/3} - R$ $\\blacksquare$"
   ]
  },
  {
   "cell_type": "markdown",
   "metadata": {},
   "source": [
    "(b) Escribe un programa que le pida al usuario que ingrese el valor deseado de $T$ y luego calcula e imprima la altitud correcta en metros."
   ]
  },
  {
   "cell_type": "code",
   "execution_count": 76,
   "metadata": {},
   "outputs": [
    {
     "name": "stdout",
     "output_type": "stream",
     "text": [
      "Ingrese el periodo del satélite en orbita en [s]:5280\n",
      "La altitud a la que se debe encontrar el satélite es:1.80E+05 metros\n"
     ]
    }
   ],
   "source": [
    "#Para el programa haremos uso de la fórmula vista anteriormente.\n",
    "#Pero antes definiremos la variable del periodo T, para que sea ingresada por el usuario\n",
    "\n",
    "T = float(input(\"Ingrese el periodo del satélite en orbita en [s]:\"))\n",
    "#Ahora, definiremos variables con las constantes G, R, M y las colocaremos en la formula de la altitud\n",
    "\n",
    "G=(6.67)*(10**(-11))\n",
    "M=(5.97)*(10**(24))\n",
    "R=(6.371)*(10**(6))\n",
    "\n",
    "h1 = (((G*M)*T**2)/(4*pi**2))**(1/3)\n",
    "h2 = format(h1 - R,'.2E')\n",
    "#Finalmentem expresamos la altitud en notación científica y emperifollamos la respuesta\n",
    "\n",
    "h= \"La altitud a la que se debe encontrar el satélite es:\" + h2 + \" metros\"\n",
    "print(h)"
   ]
  },
  {
   "cell_type": "markdown",
   "metadata": {},
   "source": [
    "(c) Utiliza tu programa para calcular las altitudes de los satélites que orbitan la Tierra una vez al día (la llamada órbita *geoestacionaria*), una vez cada **90 minutos** y una vez cada **45 minutos**. ¿Qué concluyes de este último cálculo?"
   ]
  },
  {
   "cell_type": "code",
   "execution_count": 74,
   "metadata": {},
   "outputs": [
    {
     "name": "stdout",
     "output_type": "stream",
     "text": [
      "Para un satélite que orbita una vez cada 90 minutos\n",
      "La altitud a la que se debe encontrar el satélite es:2.79E+05 metros\n"
     ]
    }
   ],
   "source": [
    "#Usamos el mismo programa para T = 90 minutos \n",
    "print(\"Para un satélite que orbita una vez cada 90 minutos\")\n",
    "T = 90*60\n",
    "\n",
    "G=(6.67)*(10**(-11))\n",
    "M=(5.97)*(10**(24))\n",
    "R=(6.371)*(10**(6))\n",
    "\n",
    "h1 = (((G*M)*T**2)/(4*pi**2))**(1/3)\n",
    "h2 = format(h1 - R,'.2E')\n",
    "\n",
    "h= \"La altitud a la que se debe encontrar el satélite es:\" + h2 + \" metros\"\n",
    "print(h)"
   ]
  },
  {
   "cell_type": "code",
   "execution_count": 72,
   "metadata": {},
   "outputs": [
    {
     "name": "stdout",
     "output_type": "stream",
     "text": [
      "Para un satélite que orbita una vez cada 45 minutos\n",
      "La altitud a la que se debe encontrar el satélite es:-2.18E+06 metros\n"
     ]
    }
   ],
   "source": [
    "#Usamos el mismo programa para T = 45 minutos \n",
    "print(\"Para un satélite que orbita una vez cada 45 minutos\")\n",
    "T = 45*60\n",
    "\n",
    "G=(6.67)*(10**(-11))\n",
    "M=(5.97)*(10**(24))\n",
    "R=(6.371)*(10**(6))\n",
    "\n",
    "h1 = (((G*M)*T**2)/(4*pi**2))**(1/3)\n",
    "h2 = format(h1 - R,'.2E')\n",
    "\n",
    "h= \"La altitud a la que se debe encontrar el satélite es:\" + h2 + \" metros\"\n",
    "print(h)"
   ]
  },
  {
   "cell_type": "markdown",
   "metadata": {},
   "source": [
    "**Para la orbita de 90 minutos se tiene cierto sentido físico, ya que las \"OTB\" (orbita terrestre baja) suelen estar a altitudes de entre 200 m a 2000 km con periodos que varian entre los 88 min y 127 min.\n",
    "Sin embargo, para la orbita de 45 minutos se pierde un poco el significado fisico, pues al ser negativa la altitud nos dice que el satélite debe orbitar dentro de la superficie terrestre.**"
   ]
  },
  {
   "cell_type": "markdown",
   "metadata": {},
   "source": [
    "**3. Relatividad especial:** Una nave espacial viaja desde la Tierra en línea recta a una velocidad relativista $v$ a otro planeta a $x$ años luz de distancia. \n",
    " \n",
    " Escribe un programa que le pida al usuario el valor de $x$ y la velocidad $v$ como una fracción de la velocidad de la luz $c$, y que imprima el tiempo en años que tarda la nave espacial en llegar a su destino"
   ]
  },
  {
   "cell_type": "markdown",
   "metadata": {},
   "source": [
    "a) en el marco de reposo de un observador en la Tierra y "
   ]
  },
  {
   "cell_type": "code",
   "execution_count": 1,
   "metadata": {},
   "outputs": [
    {
     "name": "stdout",
     "output_type": "stream",
     "text": [
      "Ingrese la distancia del planeta en años luz:10\n",
      "Ingrese la velocidad del cohete como fracción(float) de la velocidad de la luz:5\n",
      "ERROR!!!!\n",
      "Ingrese la velocidad del cohete como fracción(float) de la velocidad de la luz:0.9999\n",
      "El tiempo que tarda la nave en viajar a su destino, visto desde la tierra, es: 10.001000100010002 años\n"
     ]
    }
   ],
   "source": [
    "x = float(input(\"Ingrese la distancia del planeta en años luz:\"))\n",
    "v = float(input(\"Ingrese la velocidad del cohete como fracción(float) de la velocidad de la luz:\"))\n",
    "\n",
    "while v >= 1:\n",
    "    print(\"ERROR!!!!\")\n",
    "    v = float(input(\"Ingrese la velocidad del cohete como fracción(float) de la velocidad de la luz:\"))\n",
    "    \n",
    "print(\"El tiempo que tarda la nave en viajar a su destino, visto desde la tierra, es:\", x/v, \"años\")"
   ]
  },
  {
   "cell_type": "markdown",
   "metadata": {},
   "source": [
    "b) como lo percibiría un pasajero a bordo de la nave. "
   ]
  },
  {
   "cell_type": "code",
   "execution_count": 4,
   "metadata": {},
   "outputs": [
    {
     "name": "stdout",
     "output_type": "stream",
     "text": [
      "Ingrese la distancia del planeta en años luz:10\n",
      "Ingrese la velocidad del cohete como fracción(float) de la velocidad de la luz:0.9999\n",
      "El tiempo que tarda la nave en viajar a su destino, visto desde un observador en la nave, es: 0.1414319638555683 años\n"
     ]
    }
   ],
   "source": [
    "x = float(input(\"Ingrese la distancia del planeta en años luz:\"))\n",
    "v = float(input(\"Ingrese la velocidad del cohete como fracción(float) de la velocidad de la luz:\"))\n",
    "\n",
    "while v >= 1:\n",
    "    print(ERROR)\n",
    "    v = float(input(\"Ingrese la velocidad del cohete como fracción(float) de la velocidad de la luz:\"))\n",
    "t = x/v\n",
    "g = 1/sqrt(1-(v**2))\n",
    "tc = t/g\n",
    "print(\"El tiempo que tarda la nave en viajar a su destino, visto desde un observador en la nave, es:\", tc, \"años\")"
   ]
  },
  {
   "cell_type": "markdown",
   "metadata": {},
   "source": [
    "Usa tu programa para calcular las respuestas para un planeta a 10 años luz de distancia con $v = 0.99c$"
   ]
  },
  {
   "cell_type": "code",
   "execution_count": null,
   "metadata": {},
   "outputs": [],
   "source": []
  },
  {
   "cell_type": "markdown",
   "metadata": {},
   "source": [
    "**4. Órbitas planetarias:** En el espacio, la órbita de un cuerpo alrededor de otro (como un planeta alrededor del Sol), no necesariamente es circular. En general, toma la forma de una elipse, con el cuerpo a veces más cerca y otras más lejos. Si tenemos la distancia $\\ell_1$ de máxima aproximación de un planeta al Sol (su *perihelio*), y su velocidad lineal $v_1$ en el perihelio, entonces cualquier otra propiedad de la órbita se puede calcular a partir de estas dos cantidades de la siguiente manera:"
   ]
  },
  {
   "cell_type": "markdown",
   "metadata": {},
   "source": [
    "   \n",
    "**a)** La segunda ley de Kepler nos dice que la distancia $\\ell_2$ y la velocidad $v_2$ del planeta en su punto más distante, o *afelio*, satisfacen que $\\ell_2 v_2 = \\ell_1 v_1$.  Al mismo tiempo, la energía total, cinética más la gravitatoria, de un planeta con velocidad $v$ y distancia $r$ del Sol está dada por:\n",
    "\n",
    "<h3 align=\"center\">$E = \\frac{1}{2} m v^2 - G {mM\\over r}$,</h3> \n",
    "        \n",
    "donde $m$ es la masa del planeta, $M=1.9891\\times10^{30}\\,$kg es la masa del Sol y $G=6.6738\\times10^{-11}\\,\\mathrm{m^3\\,kg^{-1}\\,s^{-2}}$ es la constante gravitatoria de Newton. Dado que la energía debe conservarse, demuestre que $v_2$ es la raíz más pequeña de la ecuación cuadrática:\n",
    "\n",
    "<h3 align=\"center\">$v_2^2 - {2GM\\over v_1\\ell_1} v_2 - \\biggl[ v_1^2 - {2GM\\over\\ell_1} \\biggr] = 0$.</h3> \n",
    "\n",
    "Una vez que tenemos $v_2$ podemos calcular $\\ell_2$  usando la relación $\\ell_2 = \\ell_1 v_1/v_2$."
   ]
  },
  {
   "cell_type": "code",
   "execution_count": null,
   "metadata": {},
   "outputs": [],
   "source": []
  },
  {
   "cell_type": "markdown",
   "metadata": {},
   "source": [
    "**b)** Dados los valores de $v_1$, $\\ell_1$, y $\\ell_2$; otros parámetros de la órbita se obtienen mediante fórmulas simples que pueden derivarse de las leyes de Kepler y del hecho de que la órbita es una elipse:\n",
    "\n",
    "<h4 align=\"center\">Semieje mayor: $\\; \\; \\; a = \\frac{1}{2}(\\ell_1+\\ell_2)$,</h4> \n",
    "\n",
    "<h4 align=\"center\">Semieje menor: $\\; \\; \\; b = \\sqrt{\\ell_1\\ell_2}$,</h4> \n",
    "\n",
    "<h4 align=\"center\">Período orbital: $\\; \\; \\; T = {2\\pi ab\\over\\ell_1 v_1}$,</h4> \n",
    "\n",
    "<h4 align=\"center\">Excentricidad orbital: $\\; \\; \\; e = {\\ell_2-\\ell_1\\over\\ell_2+\\ell_1}$.</h4> \n",
    "\n",
    "Escribe un programa que le pida al usuario que ingrese la distancia al Sol y la velocidad en el perihelio; para que calcule e imprima las cantidades:\n",
    "\n",
    "$\\ell_2$, $v_2$, $T$ y $e$."
   ]
  },
  {
   "cell_type": "code",
   "execution_count": 23,
   "metadata": {},
   "outputs": [
    {
     "name": "stdout",
     "output_type": "stream",
     "text": [
      "Ingrese la distancia al Sol de su planeta:147100000000\n",
      "Ingrese la velocidad en el perihelio de su planeta:30287\n",
      "l2 es igual a: 152203426488.9558 m\n",
      "v2 es igual a: 29271.46781628651 m/s\n",
      "T es igual a: 31579931.406081647 s = 1.0007076395569259 años\n",
      "e es igual a: 0.01705101257550797\n"
     ]
    }
   ],
   "source": [
    "l1= float(input(\"Ingrese la distancia al Sol de su planeta:\"))\n",
    "v1= float(input(\"Ingrese la velocidad en el perihelio de su planeta:\"))\n",
    "G=(6.67)*(10**(-11))\n",
    "M=(1.9891)*(10**(30))\n",
    "v2= ((2*G*M)/(v1*l1))-v1\n",
    "l2= (v1*l1)/v2\n",
    "a= (l1+l2)/2\n",
    "b= sqrt(l1*l2)\n",
    "To= (2*pi*a*b)/(l1*v1)\n",
    "e= (l2-l1)/(l2+l1)\n",
    "print(\"l2 es igual a:\",l2, \"m\")\n",
    "print(\"v2 es igual a:\",v2, \"m/s\")\n",
    "print(\"T es igual a:\", To, \"s\", \"=\", To/31557600, \"años\")\n",
    "print(\"e es igual a:\", e)"
   ]
  },
  {
   "cell_type": "markdown",
   "metadata": {},
   "source": [
    "**c)** Prueba tu programa haciendo que calcule las propiedades de las órbitas de la Tierra (para las cuales $\\ell_1=1.4710\\times10^{11}\\,$m y $v_1=3.0287\\times10^4\\,\\mathrm{m\\,s^{-1}}$)  y del cometa Halley ($\\ell_1=8.7830\\times10^{10}\\,$m y $v_1=5.4529\\times10^4\\,\\mathrm{m\\,s^{-1}}$). Entre otras cosas, deberías encontrar que el período orbital de la Tierra es de un año y el del cometa Halley es de unos 76 años."
   ]
  },
  {
   "cell_type": "code",
   "execution_count": 22,
   "metadata": {},
   "outputs": [
    {
     "name": "stdout",
     "output_type": "stream",
     "text": [
      "Dada la distancia de la Tierra en el perihelio 147100000000.0\n",
      "Dada la velocidad de la Tierra en el perihelio 30287.0\n",
      "Se tiene que:\n",
      "l2 es igual a: 152203426488.9558 m\n",
      "v2 es igual a: 29271.46781628651 m/s\n",
      "T es igual a: 31579931.406081647 s = 1.0007076395569259 años\n",
      "e es igual a: 0.01705101257550797\n"
     ]
    }
   ],
   "source": [
    "l1= float(147100000000)\n",
    "v1= float(30287)\n",
    "G=(6.67)*(10**(-11))\n",
    "M=(1.9891)*(10**(30))\n",
    "v2= ((2*G*M)/(v1*l1))-v1\n",
    "l2= (v1*l1)/v2\n",
    "a= (l1+l2)/2\n",
    "b= sqrt(l1*l2)\n",
    "To= (2*pi*a*b)/(l1*v1)\n",
    "e= (l2-l1)/(l2+l1)\n",
    "print(\"Dada la distancia de la Tierra en el perihelio\",l1)\n",
    "print(\"Dada la velocidad de la Tierra en el perihelio\",v1)\n",
    "print(\"Se tiene que:\")\n",
    "print(\"l2 es igual a:\",l2, \"m\")\n",
    "print(\"v2 es igual a:\",v2, \"m/s\")\n",
    "print(\"T es igual a:\", To, \"s\", \"=\", To/31557600, \"años\")\n",
    "print(\"e es igual a:\", e)"
   ]
  },
  {
   "cell_type": "code",
   "execution_count": 21,
   "metadata": {},
   "outputs": [
    {
     "name": "stdout",
     "output_type": "stream",
     "text": [
      "Dada la distancia del perihelio del cometa Halley 87830000000.0\n",
      "Dada la velocidad del cometa Halley 54529.0\n",
      "Se tiene que:\n",
      "l2 es igual a: 5472738862158.531 m\n",
      "v2 es igual a: 875.1161330053001 m/s\n",
      "T es igual a: 2528846591.4829035 s = 80.13431285911804 años\n",
      "e es igual a: 0.9684097069284722\n"
     ]
    }
   ],
   "source": [
    "l1= float(87830000000)\n",
    "v1= float(54529)\n",
    "G=(6.67)*(10**(-11))\n",
    "M=(1.9891)*(10**(30))\n",
    "v2= ((2*G*M)/(v1*l1))-v1\n",
    "l2= (v1*l1)/v2\n",
    "a= (l1+l2)/2\n",
    "b= sqrt(l1*l2)\n",
    "To= (2*pi*a*b)/(l1*v1)\n",
    "e= (l2-l1)/(l2+l1)\n",
    "print(\"Dada la distancia del perihelio del cometa Halley\",l1)\n",
    "print(\"Dada la velocidad del cometa Halley\",v1)\n",
    "print(\"Se tiene que:\")\n",
    "print(\"l2 es igual a:\",l2, \"m\")\n",
    "print(\"v2 es igual a:\",v2, \"m/s\")\n",
    "print(\"T es igual a:\", To, \"s\", \"=\", To/31557600, \"años\")\n",
    "print(\"e es igual a:\", e)"
   ]
  },
  {
   "cell_type": "markdown",
   "metadata": {},
   "source": [
    "**5. La fórmula semiempírica de la masa (FSM)**\n",
    " \n",
    "En física nuclear, la **fórmula de Weizsäcker** (conocida también como fórmula semiempírica) sirve para evaluar la masa y otras propiedades de un núcleo atómico; y está basada parcialmente en mediciones empíricas. En particular la fórmula se usa para calcular la \\textbf{\\textit{energía de enlace nuclear aproximada}} $B$, de un núcleo atómico con número atómico $Z$ y número de masa $A$:\n",
    "\n",
    "<h3 align=\"center\">$B = a_1 A - a_2 A^{2/3} - a_3 {Z^2\\over A^{1/3}} - a_4 {(A - 2Z)^2\\over A} + {a_5\\over A^{1/2}}$,</h3>\n",
    "\n",
    "donde, en unidades de millones de electrón-volts, las constantes son $a_1=15.8$, $a_2=18.3$, $a_3=0.714$, $a_4=23.2$ y          \n",
    "<h6 align=\"center\">\n",
    "$a_5 = \n",
    "  \\left \\{\n",
    "    \\begin{aligned}\n",
    "      0 & \\; \\text{si} \\ A \\; \\text{es impar,} \\\\\n",
    "      12.0 & \\; \\text{si} \\ A \\; \\text{y} \\; Z \\; \\text{son pares (ambos),} \\\\\n",
    "      -12.0 & \\; \\text{si} \\ A \\; \\text{es par y} \\; Z \\; \\text{impar} \n",
    "    \\end{aligned}\n",
    "  \\right.\n",
    "$\n",
    "</h6>"
   ]
  },
  {
   "cell_type": "markdown",
   "metadata": {},
   "source": [
    "**a)** Escribe un programa que tome como entrada los valores de $A$ y $Z$, e imprima la energía de enlace $B$ para el átomo correspondiente. Usa tu programa para encontrar la energía de enlace de un átomo con $A=58$ y $Z=28$ (Hint: La respuesta correcta es alrededor de los $490\\,$MeV)."
   ]
  },
  {
   "cell_type": "code",
   "execution_count": 7,
   "metadata": {},
   "outputs": [
    {
     "name": "stdout",
     "output_type": "stream",
     "text": [
      "Ingrese el valor de A:58\n",
      "Ingrese el valor de Z:28\n",
      "La energía de enlace de un átomo con A = 58 y Z = 28 es: 497.5620206224374\n"
     ]
    }
   ],
   "source": [
    "A = int(input(\"Ingrese el valor de A:\"))\n",
    "Z = int(input(\"Ingrese el valor de Z:\"))\n",
    "a1= 15.8\n",
    "a2= 18.3\n",
    "a3= 0.714\n",
    "a4= 23.2\n",
    "if A % 2 == 0 and Z % 2 == 0:\n",
    "    a5= 12.0\n",
    "elif A == 0:\n",
    "    a5= -12.0\n",
    "else:\n",
    "    a5= 0 \n",
    "B= (a1)*(A)-(a2)*(A**(2/3))-(a3*(Z**2)/(A**(1/3)))-(a4*((A-2*Z)**2)/A)+(a5/(A**(1/2)))\n",
    "print(\"La energía de enlace de un átomo con A =\",A, \"y Z =\", Z, \"es:\", B)"
   ]
  },
  {
   "cell_type": "markdown",
   "metadata": {},
   "source": [
    "**b)** Modifica el programa del inciso anterior, para escribir una segunda versión que imprima no la energía de enlace total $B$, sino la energía de unión por nucleón, que es $B/A$."
   ]
  },
  {
   "cell_type": "code",
   "execution_count": 121,
   "metadata": {},
   "outputs": [
    {
     "name": "stdout",
     "output_type": "stream",
     "text": [
      "Ingrese el valor de A:300\n",
      "Ingrese el valor de Z:100\n",
      "La energía de unión por nucleón para A = 300 y Z = 100 es: 6.935626962297092\n"
     ]
    }
   ],
   "source": [
    "A = int(input(\"Ingrese el valor de A:\"))\n",
    "Z = int(input(\"Ingrese el valor de Z:\"))\n",
    "a1= 15.8\n",
    "a2= 18.3\n",
    "a3= 0.714\n",
    "a4= 23.2\n",
    "if A % 2 == 0 and Z % 2 == 0:\n",
    "    a5= 12.0\n",
    "elif A == 0:\n",
    "    a5= -12.0\n",
    "else:\n",
    "    a5= 0 \n",
    "B= (a1)*(A)-(a2)*(A**(2/3))-(a3*(Z**2)/(A**(1/3)))-(a4*((A-2*Z)**2)/A)+(a5/(A**(1/2)))\n",
    "print(\"La energía de unión por nucleón para A =\",A, \"y Z =\", Z, \"es:\", B/A)"
   ]
  },
  {
   "cell_type": "markdown",
   "metadata": {},
   "source": [
    "**c)** Escribe una tercera versión del programa para que tome como entrada solo un valor del número atómico $Z$ y luego pase por todos los valores de $A$ desde $A=Z$ hasta $A=3Z$, para encontrar el que tiene la mayor energía de enlace por nucleón . Este es el núcleo más estable con el número atómico dado. Haz que tu programa imprima el valor de $A$ para este núcleo más estable y el valor de la energía de enlace por nucleón."
   ]
  },
  {
   "cell_type": "code",
   "execution_count": 47,
   "metadata": {},
   "outputs": [
    {
     "name": "stdout",
     "output_type": "stream",
     "text": [
      "Ingrese el valor de Z:28\n",
      "8.432655535147047 56\n"
     ]
    }
   ],
   "source": [
    "Z = int(input(\"Ingrese el valor de Z:\"))\n",
    "A = [Z,2*Z,3*Z]\n",
    "B=[]\n",
    "C=[]\n",
    "a1= 15.8\n",
    "a2= 18.3\n",
    "a3= 0.714\n",
    "a4= 23.2\n",
    "for i in A:\n",
    "    if i % 2 == 0 and Z % 2 == 0:\n",
    "        a5= 12.0\n",
    "    elif i == 0:\n",
    "        a5= -12.0\n",
    "    else:\n",
    "        a5= 0 \n",
    "    b= (a1)*(i)-(a2)*(i**(2/3))-(a3*(Z**2)/(i**(1/3)))-(a4*((i-2*Z)**2)/i)+(a5/(i**(1/2)))\n",
    "    B.append(b/i)\n",
    "    bmax = 0\n",
    "    amax=0\n",
    "for i, j in zip(B, A):\n",
    "    if i > bmax:\n",
    "        bmax = i\n",
    "        amax = j\n",
    "print(bmax,amax)"
   ]
  },
  {
   "cell_type": "markdown",
   "metadata": {},
   "source": [
    "**d)** Finalmente, escribe una cuarta versión del programa que, en lugar de tomar $Z$ como entrada, se ejecute a través de todos los valores de $Z$ de 1 a 100 e imprima el valor más estable de $A$ para cada uno. ¿A qué valor de $Z$ se produce la energía de enlace máxima por nucleón? (La respuesta correcta, en la vida real, es $Z=28$, que corresponde al Níquel)."
   ]
  },
  {
   "cell_type": "code",
   "execution_count": 77,
   "metadata": {},
   "outputs": [
    {
     "name": "stdout",
     "output_type": "stream",
     "text": [
      "[[1, 2, 3], [2, 4, 6], [3, 6, 9], [4, 8, 12], [5, 10, 15], [6, 12, 18], [7, 14, 21], [8, 16, 24], [9, 18, 27], [10, 20, 30]] [[-26.414        0.99192929   0.36869092]\n",
      " [-18.81548329   5.32193058   3.7058878 ]\n",
      " [-21.57369117   5.13972788   4.08124445]\n",
      " [-19.22744487   6.46633009   5.1018118 ]\n",
      " [-20.18965359   6.47736883   5.31941443]\n",
      " [-19.01195758   7.1598092    5.8517162 ]\n",
      " [-19.57921492   7.17021897   5.98534338]\n",
      " [-18.87566991   7.59173584   6.3199487 ]\n",
      " [-19.28702096   7.59125417   6.40822222]\n",
      " [-18.82872867   7.87718719   6.63981174]]\n",
      "[0.991929286714652, 5.321930578649441, 5.1397278769437005, 6.466330085889912, 6.477368827688734, 7.159809204525104, 7.170218966257754, 7.591735836140193, 7.59125416665006, 7.877187191123463] [2, 4, 6, 8, 10, 12, 14, 16, 18, 20]\n"
     ]
    }
   ],
   "source": [
    "Z = [i for i in range(1,11)]\n",
    "A1 = []\n",
    "for z in Z:\n",
    "    A = [z,2*z,3*z]\n",
    "    A1.append(A)\n",
    "B=[]\n",
    "a1= 15.8\n",
    "a2= 18.3\n",
    "a3= 0.714\n",
    "a4= 23.2\n",
    "for i in A1:\n",
    "    for j,k in zip(i,range(1,10)):\n",
    "        if j % 2 == 0 and j/k % 2 == 0:\n",
    "            a5= 12.0\n",
    "        elif j == 0:\n",
    "            a5= -12.0\n",
    "        else:\n",
    "            a5= 0 \n",
    "        b =(a1)*(j)-(a2)*(j**(2/3))-(a3*((j/k)**2)/(j**(1/3)))-(a4*(((j-2*(j/k))**2)/j))+(a5/(j**(1/2)))\n",
    "        B.append(b/j)\n",
    "amax=0\n",
    "B1=array([B])\n",
    "B2= reshape(B1,(10,3))\n",
    "C= len(B2)\n",
    "B3= []\n",
    "A2= []\n",
    "for l in range(C):\n",
    "    bmax=0\n",
    "    for r, s in zip(B2[l], A1[l]):\n",
    "        if r > bmax:\n",
    "            bmax = r\n",
    "            amax = s\n",
    "            B3.append(r)\n",
    "            A2.append(s)\n",
    "print(A1,B2)\n",
    "print(B3,A2)"
   ]
  },
  {
   "cell_type": "code",
   "execution_count": null,
   "metadata": {},
   "outputs": [],
   "source": []
  }
 ],
 "metadata": {
  "kernelspec": {
   "display_name": "Python 3 (ipykernel)",
   "language": "python",
   "name": "python3"
  },
  "language_info": {
   "codemirror_mode": {
    "name": "ipython",
    "version": 3
   },
   "file_extension": ".py",
   "mimetype": "text/x-python",
   "name": "python",
   "nbconvert_exporter": "python",
   "pygments_lexer": "ipython3",
   "version": "3.9.13"
  }
 },
 "nbformat": 4,
 "nbformat_minor": 4
}
