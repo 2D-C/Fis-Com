{
 "cells": [
  {
   "cell_type": "code",
   "execution_count": 1,
   "id": "b4990590",
   "metadata": {},
   "outputs": [],
   "source": [
    "from math import *\n",
    "import numpy as np\n",
    "import matplotlib.pyplot as plt"
   ]
  },
  {
   "cell_type": "markdown",
   "id": "ad284268",
   "metadata": {},
   "source": [
    "Ejercicio 1"
   ]
  },
  {
   "cell_type": "code",
   "execution_count": 31,
   "id": "da4cd019",
   "metadata": {},
   "outputs": [
    {
     "name": "stdout",
     "output_type": "stream",
     "text": [
      "[[  2.    1.    4.    1. ]\n",
      " [  0.    2.5  -7.   -2.5]\n",
      " [  0.    0.  -13.6   0. ]\n",
      " [  0.    0.    0.   -1. ]]\n",
      "[[ 1.          0.          0.          0.        ]\n",
      " [ 1.5         1.          0.          0.        ]\n",
      " [ 0.5        -1.8         1.          0.        ]\n",
      " [ 1.         -1.2         0.83823529  1.        ]]\n"
     ]
    }
   ],
   "source": [
    "D = np.array([[-4],[3],[9],[7]],float)\n",
    "U = np.array([[2,1,4,1],[3,4,-1,-1],[1,-4,1,5],[2,-2,1,3]],float)\n",
    "L= np.identity(len(U))\n",
    "n = len(U)-1\n",
    "for h in range(n):\n",
    "    for l in range(h+1,n+1):\n",
    "        L[l,h] = U[l,h]/U[h,h]\n",
    "        \n",
    "        y= D[h]/U[h,h]\n",
    "        D[l]= D[l] - (y * U[l,h])\n",
    "        \n",
    "        x= U[h]/U[h,h]\n",
    "        U[l]= U[l] - (x * U[l,h])\n",
    "\n",
    "print(U)\n",
    "print(L)"
   ]
  },
  {
   "cell_type": "code",
   "execution_count": 32,
   "id": "ef29ae3e",
   "metadata": {
    "scrolled": true
   },
   "outputs": [
    {
     "data": {
      "text/plain": [
       "array([[ 2.,  1.,  4.,  1.],\n",
       "       [ 3.,  4., -1., -1.],\n",
       "       [ 1., -4.,  1.,  5.],\n",
       "       [ 2., -2.,  1.,  3.]])"
      ]
     },
     "execution_count": 32,
     "metadata": {},
     "output_type": "execute_result"
    }
   ],
   "source": [
    "np.dot(L,U)"
   ]
  },
  {
   "cell_type": "code",
   "execution_count": 33,
   "id": "d4b88ee3",
   "metadata": {},
   "outputs": [],
   "source": [
    "def sol(U,D):\n",
    "    n = len(U)-1\n",
    "    for h in range(n):\n",
    "        for l in range(h+1,n+1):\n",
    "\n",
    "            D[h]= D[h]/U[h,h]\n",
    "            D[l]= D[l] - (D[h] * U[l,h])\n",
    "\n",
    "            U[h]= U[h]/U[h,h]\n",
    "            U[l]= U[l] - (U[h] * U[l,h])\n",
    "\n",
    "    D[n]=D[n]/U[n,n]\n",
    "    U[n]=U[n]/U[n,n]\n",
    "\n",
    "    x = np.empty(n+1, float)\n",
    "    for m in range(n, -1, -1):\n",
    "        x[m] = D[m]\n",
    "        for i in range(m+1, n+1):\n",
    "            x[m] -= U[m, i] * x[i]\n",
    "    return x"
   ]
  },
  {
   "cell_type": "code",
   "execution_count": 34,
   "id": "6868124d",
   "metadata": {},
   "outputs": [
    {
     "data": {
      "text/plain": [
       "array([ 2., -1., -2.,  1.])"
      ]
     },
     "execution_count": 34,
     "metadata": {},
     "output_type": "execute_result"
    }
   ],
   "source": [
    "sol(U,D)"
   ]
  },
  {
   "cell_type": "code",
   "execution_count": 35,
   "id": "785686ac",
   "metadata": {},
   "outputs": [
    {
     "data": {
      "text/plain": [
       "array([[ 2.],\n",
       "       [-1.],\n",
       "       [-2.],\n",
       "       [ 1.]])"
      ]
     },
     "execution_count": 35,
     "metadata": {},
     "output_type": "execute_result"
    }
   ],
   "source": [
    "np.linalg.solve(U,D)"
   ]
  },
  {
   "cell_type": "markdown",
   "id": "023dd44b",
   "metadata": {},
   "source": [
    "Ejercicio 2"
   ]
  },
  {
   "cell_type": "code",
   "execution_count": null,
   "id": "5801a749",
   "metadata": {},
   "outputs": [],
   "source": []
  },
  {
   "cell_type": "code",
   "execution_count": null,
   "id": "54f71179",
   "metadata": {},
   "outputs": [],
   "source": []
  },
  {
   "cell_type": "code",
   "execution_count": null,
   "id": "49a680f8",
   "metadata": {},
   "outputs": [],
   "source": []
  },
  {
   "cell_type": "markdown",
   "id": "503c868e",
   "metadata": {},
   "source": [
    "Ejercicio 3"
   ]
  },
  {
   "cell_type": "code",
   "execution_count": 36,
   "id": "15f9cf16",
   "metadata": {},
   "outputs": [],
   "source": [
    "def df(x):\n",
    "    return c*e**(-c*x)"
   ]
  },
  {
   "cell_type": "code",
   "execution_count": 37,
   "id": "52470bf9",
   "metadata": {},
   "outputs": [
    {
     "name": "stdout",
     "output_type": "stream",
     "text": [
      "0.7968126311118457\n"
     ]
    }
   ],
   "source": [
    "c=2\n",
    "x0= 1\n",
    "umbral = 1e-6\n",
    "error =1\n",
    "\n",
    "while error > umbral:\n",
    "    xn= 1 - e**(-c*x0)\n",
    "    x_ant = x0\n",
    "    x0 = xn\n",
    "    error= abs((x0 - x_ant)/(1-1/df(x_ant)))\n",
    "print(x0)"
   ]
  },
  {
   "cell_type": "code",
   "execution_count": 38,
   "id": "412e43cb",
   "metadata": {},
   "outputs": [],
   "source": [
    "C = np.arange(0.01,3.01,0.01)\n",
    "X=[]\n",
    "for c in C:\n",
    "    x0= 1\n",
    "    umbral = 1e-7\n",
    "    error =1\n",
    "    \n",
    "    while error > umbral:\n",
    "        xn= 1 - e**(-c*x0)\n",
    "        x_ant = x0\n",
    "        x0 = xn\n",
    "        error= abs((x0 - x_ant)/(1-1/df(x_ant)))\n",
    "    X.append(x0)"
   ]
  },
  {
   "cell_type": "code",
   "execution_count": 43,
   "id": "08051bcf",
   "metadata": {},
   "outputs": [
    {
     "data": {
      "text/plain": [
       "Text(0.5, 0, 'Raices X')"
      ]
     },
     "execution_count": 43,
     "metadata": {},
     "output_type": "execute_result"
    },
    {
     "data": {
      "image/png": "[encoded data removed]",
      "text/plain": [
       "<Figure size 640x480 with 1 Axes>"
      ]
     },
     "metadata": {},
     "output_type": "display_data"
    }
   ],
   "source": [
    "plt.plot(C,X)\n",
    "plt.title(\"Grafica\")\n",
    "plt.ylabel(\"Valores de C\")\n",
    "plt.xlabel(\"Raices X\")"
   ]
  },
  {
   "cell_type": "code",
   "execution_count": null,
   "id": "806bc11f",
   "metadata": {},
   "outputs": [],
   "source": []
  }
 ],
 "metadata": {
  "kernelspec": {
   "display_name": "Python 3 (ipykernel)",
   "language": "python",
   "name": "python3"
  },
  "language_info": {
   "codemirror_mode": {
    "name": "ipython",
    "version": 3
   },
   "file_extension": ".py",
   "mimetype": "text/x-python",
   "name": "python",
   "nbconvert_exporter": "python",
   "pygments_lexer": "ipython3",
   "version": "3.9.13"
  }
 },
 "nbformat": 4,
 "nbformat_minor": 5
}
