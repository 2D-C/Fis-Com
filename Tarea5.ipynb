{
 "cells": [
  {
   "cell_type": "code",
   "execution_count": 12,
   "id": "b4990590",
   "metadata": {},
   "outputs": [],
   "source": [
    "from math import *\n",
    "import numpy as np\n",
    "import matplotlib.pyplot as plt"
   ]
  },
  {
   "cell_type": "code",
   "execution_count": 106,
   "id": "3136ad3f",
   "metadata": {},
   "outputs": [
    {
     "name": "stdout",
     "output_type": "stream",
     "text": [
      "[[25.    5.    1.  ]\n",
      " [ 0.   -4.8  -1.56]\n",
      " [ 0.    0.    0.7 ]]\n",
      "[[106.8  ]\n",
      " [-96.208]\n",
      " [  0.76 ]]\n"
     ]
    }
   ],
   "source": [
    "D = np.array([[106.8],[177.2],[279.2]],float)\n",
    "U = np.array([[25,5,1],[64,8,1],[144,12,1]],float)\n",
    "L= np.identity(len(U))\n",
    "n = len(U)-1\n",
    "for h in range(n):\n",
    "    for l in range(h+1,n+1):\n",
    "        L[l,h] = U[l,h]/U[h,h]\n",
    "        \n",
    "        D0= D[h]/U[h,h]\n",
    "        D[l]= D[l] - (D0 * U[l,h])\n",
    "        \n",
    "        U0= U[h]/U[h,h]\n",
    "        U[l]= U[l] - (U0 * U[l,h])\n",
    "\n",
    "print(U)\n",
    "print(D)\n",
    "        \n",
    "X = np.empty(n, float)\n",
    "for m in range(n-1, -1, -1):\n",
    "    X[m]= D[m]/U[m,m]\n",
    "print(X)"
   ]
  },
  {
   "cell_type": "code",
   "execution_count": 104,
   "id": "cee254b5",
   "metadata": {},
   "outputs": [
    {
     "name": "stdout",
     "output_type": "stream",
     "text": [
      "[0.  0.  0.7]\n"
     ]
    }
   ],
   "source": [
    "x = empty(N, float)\n",
    "for m in range(N-1, -1, -1):\n",
    "    x[m] = v[m]\n",
    "    for i in range(m+1, N):\n",
    "        x[m] -= A[m, i] * x[i]"
   ]
  },
  {
   "cell_type": "code",
   "execution_count": 89,
   "id": "da4cd019",
   "metadata": {},
   "outputs": [
    {
     "name": "stdout",
     "output_type": "stream",
     "text": [
      "[[  2.    1.    4.    1. ]\n",
      " [  0.    2.5  -7.   -2.5]\n",
      " [  0.    0.  -13.6   0. ]\n",
      " [  0.    0.    0.   -1. ]]\n",
      "[[ 1.          0.          0.          0.        ]\n",
      " [ 1.5         1.          0.          0.        ]\n",
      " [ 0.5        -1.8         1.          0.        ]\n",
      " [ 1.         -1.2         0.83823529  1.        ]]\n",
      "[[-4. ]\n",
      " [ 9. ]\n",
      " [27.2]\n",
      " [-1. ]]\n"
     ]
    }
   ],
   "source": [
    "D = np.array([[-4],[3],[9],[7]],float)\n",
    "U = np.array([[2,1,4,1],[3,4,-1,-1],[1,-4,1,5],[2,-2,1,3]],float)\n",
    "L= np.identity(len(U))\n",
    "n = len(U)-1\n",
    "for h in range(n):\n",
    "    for l in range(h+1,n+1):\n",
    "        L[l,h] = U[l,h]/U[h,h]\n",
    "        \n",
    "        y= D[h]/U[h,h]\n",
    "        D[l]= D[l] - (y * U[l,h])\n",
    "        \n",
    "        x= U[h]/U[h,h]\n",
    "        U[l]= U[l] - (x * U[l,h])\n",
    "\n",
    "print(U)\n",
    "print(L)\n",
    "print(D)"
   ]
  },
  {
   "cell_type": "code",
   "execution_count": 90,
   "id": "ef29ae3e",
   "metadata": {},
   "outputs": [
    {
     "data": {
      "text/plain": [
       "array([[ 2.,  1.,  4.,  1.],\n",
       "       [ 3.,  4., -1., -1.],\n",
       "       [ 1., -4.,  1.,  5.],\n",
       "       [ 2., -2.,  1.,  3.]])"
      ]
     },
     "execution_count": 90,
     "metadata": {},
     "output_type": "execute_result"
    }
   ],
   "source": [
    "np.dot(L,U)"
   ]
  },
  {
   "cell_type": "code",
   "execution_count": null,
   "id": "785686ac",
   "metadata": {},
   "outputs": [],
   "source": []
  }
 ],
 "metadata": {
  "kernelspec": {
   "display_name": "Python 3 (ipykernel)",
   "language": "python",
   "name": "python3"
  },
  "language_info": {
   "codemirror_mode": {
    "name": "ipython",
    "version": 3
   },
   "file_extension": ".py",
   "mimetype": "text/x-python",
   "name": "python",
   "nbconvert_exporter": "python",
   "pygments_lexer": "ipython3",
   "version": "3.11.4"
  }
 },
 "nbformat": 4,
 "nbformat_minor": 5
}
